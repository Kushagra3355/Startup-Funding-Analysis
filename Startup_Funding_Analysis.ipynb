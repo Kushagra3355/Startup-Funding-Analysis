{
 "cells": [
  {
   "cell_type": "markdown",
   "id": "2687868d-9454-4298-8f1a-99d56afe8328",
   "metadata": {},
   "source": [
    "#Case_Study_1"
   ]
  },
  {
   "cell_type": "code",
   "execution_count": 1,
   "id": "59d88085-bc93-48a3-af42-4a726c4ce1ee",
   "metadata": {},
   "outputs": [],
   "source": [
    "import numpy as np\n",
    "import pandas as pd\n",
    "import matplotlib.pyplot as plt"
   ]
  },
  {
   "cell_type": "code",
   "execution_count": 2,
   "id": "825e9fd0-9cc9-4b5f-a26b-fc4d866086c9",
   "metadata": {},
   "outputs": [],
   "source": [
    "df = pd.read_csv('startup_funding.csv')"
   ]
  },
  {
   "cell_type": "code",
   "execution_count": 3,
   "id": "efa50f3e-5f4c-477c-9908-7e79e80e96f8",
   "metadata": {},
   "outputs": [
    {
     "data": {
      "text/html": [
       "<div>\n",
       "<style scoped>\n",
       "    .dataframe tbody tr th:only-of-type {\n",
       "        vertical-align: middle;\n",
       "    }\n",
       "\n",
       "    .dataframe tbody tr th {\n",
       "        vertical-align: top;\n",
       "    }\n",
       "\n",
       "    .dataframe thead th {\n",
       "        text-align: right;\n",
       "    }\n",
       "</style>\n",
       "<table border=\"1\" class=\"dataframe\">\n",
       "  <thead>\n",
       "    <tr style=\"text-align: right;\">\n",
       "      <th></th>\n",
       "      <th>SNo</th>\n",
       "      <th>Date</th>\n",
       "      <th>StartupName</th>\n",
       "      <th>IndustryVertical</th>\n",
       "      <th>SubVertical</th>\n",
       "      <th>CityLocation</th>\n",
       "      <th>InvestorsName</th>\n",
       "      <th>InvestmentType</th>\n",
       "      <th>AmountInUSD</th>\n",
       "      <th>Remarks</th>\n",
       "    </tr>\n",
       "  </thead>\n",
       "  <tbody>\n",
       "    <tr>\n",
       "      <th>0</th>\n",
       "      <td>0</td>\n",
       "      <td>01/08/2017</td>\n",
       "      <td>TouchKin</td>\n",
       "      <td>Technology</td>\n",
       "      <td>Predictive Care Platform</td>\n",
       "      <td>Bangalore</td>\n",
       "      <td>Kae Capital</td>\n",
       "      <td>Private Equity</td>\n",
       "      <td>1,300,000</td>\n",
       "      <td>NaN</td>\n",
       "    </tr>\n",
       "    <tr>\n",
       "      <th>1</th>\n",
       "      <td>1</td>\n",
       "      <td>02/08/2017</td>\n",
       "      <td>Ethinos</td>\n",
       "      <td>Technology</td>\n",
       "      <td>Digital Marketing Agency</td>\n",
       "      <td>Mumbai</td>\n",
       "      <td>Triton Investment Advisors</td>\n",
       "      <td>Private Equity</td>\n",
       "      <td>NaN</td>\n",
       "      <td>NaN</td>\n",
       "    </tr>\n",
       "    <tr>\n",
       "      <th>2</th>\n",
       "      <td>2</td>\n",
       "      <td>02/08/2017</td>\n",
       "      <td>Leverage Edu</td>\n",
       "      <td>Consumer Internet</td>\n",
       "      <td>Online platform for Higher Education Services</td>\n",
       "      <td>New Delhi</td>\n",
       "      <td>Kashyap Deorah, Anand Sankeshwar, Deepak Jain,...</td>\n",
       "      <td>Seed Funding</td>\n",
       "      <td>NaN</td>\n",
       "      <td>NaN</td>\n",
       "    </tr>\n",
       "    <tr>\n",
       "      <th>3</th>\n",
       "      <td>3</td>\n",
       "      <td>02/08/2017</td>\n",
       "      <td>Zepo</td>\n",
       "      <td>Consumer Internet</td>\n",
       "      <td>DIY Ecommerce platform</td>\n",
       "      <td>Mumbai</td>\n",
       "      <td>Kunal Shah, LetsVenture, Anupam Mittal, Hetal ...</td>\n",
       "      <td>Seed Funding</td>\n",
       "      <td>500,000</td>\n",
       "      <td>NaN</td>\n",
       "    </tr>\n",
       "    <tr>\n",
       "      <th>4</th>\n",
       "      <td>4</td>\n",
       "      <td>02/08/2017</td>\n",
       "      <td>Click2Clinic</td>\n",
       "      <td>Consumer Internet</td>\n",
       "      <td>healthcare service aggregator</td>\n",
       "      <td>Hyderabad</td>\n",
       "      <td>Narottam Thudi, Shireesh Palle</td>\n",
       "      <td>Seed Funding</td>\n",
       "      <td>850,000</td>\n",
       "      <td>NaN</td>\n",
       "    </tr>\n",
       "    <tr>\n",
       "      <th>...</th>\n",
       "      <td>...</td>\n",
       "      <td>...</td>\n",
       "      <td>...</td>\n",
       "      <td>...</td>\n",
       "      <td>...</td>\n",
       "      <td>...</td>\n",
       "      <td>...</td>\n",
       "      <td>...</td>\n",
       "      <td>...</td>\n",
       "      <td>...</td>\n",
       "    </tr>\n",
       "    <tr>\n",
       "      <th>2367</th>\n",
       "      <td>2367</td>\n",
       "      <td>29/01/2015</td>\n",
       "      <td>Printvenue</td>\n",
       "      <td>NaN</td>\n",
       "      <td>NaN</td>\n",
       "      <td>NaN</td>\n",
       "      <td>Asia Pacific Internet Group</td>\n",
       "      <td>Private Equity</td>\n",
       "      <td>4,500,000</td>\n",
       "      <td>NaN</td>\n",
       "    </tr>\n",
       "    <tr>\n",
       "      <th>2368</th>\n",
       "      <td>2368</td>\n",
       "      <td>29/01/2015</td>\n",
       "      <td>Graphene</td>\n",
       "      <td>NaN</td>\n",
       "      <td>NaN</td>\n",
       "      <td>NaN</td>\n",
       "      <td>KARSEMVEN Fund</td>\n",
       "      <td>Private Equity</td>\n",
       "      <td>825,000</td>\n",
       "      <td>Govt backed VC Fund</td>\n",
       "    </tr>\n",
       "    <tr>\n",
       "      <th>2369</th>\n",
       "      <td>2369</td>\n",
       "      <td>30/01/2015</td>\n",
       "      <td>Mad Street Den</td>\n",
       "      <td>NaN</td>\n",
       "      <td>NaN</td>\n",
       "      <td>NaN</td>\n",
       "      <td>Exfinity Fund, GrowX Ventures.</td>\n",
       "      <td>Private Equity</td>\n",
       "      <td>1,500,000</td>\n",
       "      <td>NaN</td>\n",
       "    </tr>\n",
       "    <tr>\n",
       "      <th>2370</th>\n",
       "      <td>2370</td>\n",
       "      <td>30/01/2015</td>\n",
       "      <td>Simplotel</td>\n",
       "      <td>NaN</td>\n",
       "      <td>NaN</td>\n",
       "      <td>NaN</td>\n",
       "      <td>MakeMyTrip</td>\n",
       "      <td>Private Equity</td>\n",
       "      <td>NaN</td>\n",
       "      <td>Strategic Funding, Minority stake</td>\n",
       "    </tr>\n",
       "    <tr>\n",
       "      <th>2371</th>\n",
       "      <td>2371</td>\n",
       "      <td>31/01/2015</td>\n",
       "      <td>couponmachine.in</td>\n",
       "      <td>NaN</td>\n",
       "      <td>NaN</td>\n",
       "      <td>NaN</td>\n",
       "      <td>UK based Group of Angel Investors</td>\n",
       "      <td>Seed Funding</td>\n",
       "      <td>140,000</td>\n",
       "      <td>NaN</td>\n",
       "    </tr>\n",
       "  </tbody>\n",
       "</table>\n",
       "<p>2372 rows × 10 columns</p>\n",
       "</div>"
      ],
      "text/plain": [
       "       SNo        Date       StartupName   IndustryVertical  \\\n",
       "0        0  01/08/2017          TouchKin         Technology   \n",
       "1        1  02/08/2017           Ethinos         Technology   \n",
       "2        2  02/08/2017      Leverage Edu  Consumer Internet   \n",
       "3        3  02/08/2017              Zepo  Consumer Internet   \n",
       "4        4  02/08/2017      Click2Clinic  Consumer Internet   \n",
       "...    ...         ...               ...                ...   \n",
       "2367  2367  29/01/2015        Printvenue                NaN   \n",
       "2368  2368  29/01/2015          Graphene                NaN   \n",
       "2369  2369  30/01/2015    Mad Street Den                NaN   \n",
       "2370  2370  30/01/2015         Simplotel                NaN   \n",
       "2371  2371  31/01/2015  couponmachine.in                NaN   \n",
       "\n",
       "                                        SubVertical CityLocation  \\\n",
       "0                          Predictive Care Platform    Bangalore   \n",
       "1                          Digital Marketing Agency       Mumbai   \n",
       "2     Online platform for Higher Education Services    New Delhi   \n",
       "3                            DIY Ecommerce platform       Mumbai   \n",
       "4                     healthcare service aggregator    Hyderabad   \n",
       "...                                             ...          ...   \n",
       "2367                                            NaN          NaN   \n",
       "2368                                            NaN          NaN   \n",
       "2369                                            NaN          NaN   \n",
       "2370                                            NaN          NaN   \n",
       "2371                                            NaN          NaN   \n",
       "\n",
       "                                          InvestorsName  InvestmentType  \\\n",
       "0                                           Kae Capital  Private Equity   \n",
       "1                            Triton Investment Advisors  Private Equity   \n",
       "2     Kashyap Deorah, Anand Sankeshwar, Deepak Jain,...    Seed Funding   \n",
       "3     Kunal Shah, LetsVenture, Anupam Mittal, Hetal ...    Seed Funding   \n",
       "4                        Narottam Thudi, Shireesh Palle    Seed Funding   \n",
       "...                                                 ...             ...   \n",
       "2367                        Asia Pacific Internet Group  Private Equity   \n",
       "2368                                     KARSEMVEN Fund  Private Equity   \n",
       "2369                     Exfinity Fund, GrowX Ventures.  Private Equity   \n",
       "2370                                         MakeMyTrip  Private Equity   \n",
       "2371                  UK based Group of Angel Investors    Seed Funding   \n",
       "\n",
       "     AmountInUSD                            Remarks  \n",
       "0      1,300,000                                NaN  \n",
       "1            NaN                                NaN  \n",
       "2            NaN                                NaN  \n",
       "3        500,000                                NaN  \n",
       "4        850,000                                NaN  \n",
       "...          ...                                ...  \n",
       "2367   4,500,000                                NaN  \n",
       "2368     825,000                Govt backed VC Fund  \n",
       "2369   1,500,000                                NaN  \n",
       "2370         NaN  Strategic Funding, Minority stake  \n",
       "2371     140,000                                NaN  \n",
       "\n",
       "[2372 rows x 10 columns]"
      ]
     },
     "execution_count": 3,
     "metadata": {},
     "output_type": "execute_result"
    }
   ],
   "source": [
    "df"
   ]
  },
  {
   "cell_type": "code",
   "execution_count": 4,
   "id": "f5bf9e8e-4323-4182-b55a-c95b3c4c66b2",
   "metadata": {},
   "outputs": [],
   "source": [
    "df.sort_index(ascending=False, inplace=True)\n",
    "df.reset_index(drop=True, inplace=True)"
   ]
  },
  {
   "cell_type": "code",
   "execution_count": 5,
   "id": "6ff62a20-f7d2-4251-a69b-72ef5c7bfee6",
   "metadata": {},
   "outputs": [
    {
     "data": {
      "text/html": [
       "<div>\n",
       "<style scoped>\n",
       "    .dataframe tbody tr th:only-of-type {\n",
       "        vertical-align: middle;\n",
       "    }\n",
       "\n",
       "    .dataframe tbody tr th {\n",
       "        vertical-align: top;\n",
       "    }\n",
       "\n",
       "    .dataframe thead th {\n",
       "        text-align: right;\n",
       "    }\n",
       "</style>\n",
       "<table border=\"1\" class=\"dataframe\">\n",
       "  <thead>\n",
       "    <tr style=\"text-align: right;\">\n",
       "      <th></th>\n",
       "      <th>SNo</th>\n",
       "      <th>Date</th>\n",
       "      <th>StartupName</th>\n",
       "      <th>IndustryVertical</th>\n",
       "      <th>SubVertical</th>\n",
       "      <th>CityLocation</th>\n",
       "      <th>InvestorsName</th>\n",
       "      <th>InvestmentType</th>\n",
       "      <th>AmountInUSD</th>\n",
       "      <th>Remarks</th>\n",
       "    </tr>\n",
       "  </thead>\n",
       "  <tbody>\n",
       "    <tr>\n",
       "      <th>0</th>\n",
       "      <td>2371</td>\n",
       "      <td>31/01/2015</td>\n",
       "      <td>couponmachine.in</td>\n",
       "      <td>NaN</td>\n",
       "      <td>NaN</td>\n",
       "      <td>NaN</td>\n",
       "      <td>UK based Group of Angel Investors</td>\n",
       "      <td>Seed Funding</td>\n",
       "      <td>140,000</td>\n",
       "      <td>NaN</td>\n",
       "    </tr>\n",
       "    <tr>\n",
       "      <th>1</th>\n",
       "      <td>2370</td>\n",
       "      <td>30/01/2015</td>\n",
       "      <td>Simplotel</td>\n",
       "      <td>NaN</td>\n",
       "      <td>NaN</td>\n",
       "      <td>NaN</td>\n",
       "      <td>MakeMyTrip</td>\n",
       "      <td>Private Equity</td>\n",
       "      <td>NaN</td>\n",
       "      <td>Strategic Funding, Minority stake</td>\n",
       "    </tr>\n",
       "    <tr>\n",
       "      <th>2</th>\n",
       "      <td>2369</td>\n",
       "      <td>30/01/2015</td>\n",
       "      <td>Mad Street Den</td>\n",
       "      <td>NaN</td>\n",
       "      <td>NaN</td>\n",
       "      <td>NaN</td>\n",
       "      <td>Exfinity Fund, GrowX Ventures.</td>\n",
       "      <td>Private Equity</td>\n",
       "      <td>1,500,000</td>\n",
       "      <td>NaN</td>\n",
       "    </tr>\n",
       "    <tr>\n",
       "      <th>3</th>\n",
       "      <td>2368</td>\n",
       "      <td>29/01/2015</td>\n",
       "      <td>Graphene</td>\n",
       "      <td>NaN</td>\n",
       "      <td>NaN</td>\n",
       "      <td>NaN</td>\n",
       "      <td>KARSEMVEN Fund</td>\n",
       "      <td>Private Equity</td>\n",
       "      <td>825,000</td>\n",
       "      <td>Govt backed VC Fund</td>\n",
       "    </tr>\n",
       "    <tr>\n",
       "      <th>4</th>\n",
       "      <td>2367</td>\n",
       "      <td>29/01/2015</td>\n",
       "      <td>Printvenue</td>\n",
       "      <td>NaN</td>\n",
       "      <td>NaN</td>\n",
       "      <td>NaN</td>\n",
       "      <td>Asia Pacific Internet Group</td>\n",
       "      <td>Private Equity</td>\n",
       "      <td>4,500,000</td>\n",
       "      <td>NaN</td>\n",
       "    </tr>\n",
       "    <tr>\n",
       "      <th>...</th>\n",
       "      <td>...</td>\n",
       "      <td>...</td>\n",
       "      <td>...</td>\n",
       "      <td>...</td>\n",
       "      <td>...</td>\n",
       "      <td>...</td>\n",
       "      <td>...</td>\n",
       "      <td>...</td>\n",
       "      <td>...</td>\n",
       "      <td>...</td>\n",
       "    </tr>\n",
       "    <tr>\n",
       "      <th>2367</th>\n",
       "      <td>4</td>\n",
       "      <td>02/08/2017</td>\n",
       "      <td>Click2Clinic</td>\n",
       "      <td>Consumer Internet</td>\n",
       "      <td>healthcare service aggregator</td>\n",
       "      <td>Hyderabad</td>\n",
       "      <td>Narottam Thudi, Shireesh Palle</td>\n",
       "      <td>Seed Funding</td>\n",
       "      <td>850,000</td>\n",
       "      <td>NaN</td>\n",
       "    </tr>\n",
       "    <tr>\n",
       "      <th>2368</th>\n",
       "      <td>3</td>\n",
       "      <td>02/08/2017</td>\n",
       "      <td>Zepo</td>\n",
       "      <td>Consumer Internet</td>\n",
       "      <td>DIY Ecommerce platform</td>\n",
       "      <td>Mumbai</td>\n",
       "      <td>Kunal Shah, LetsVenture, Anupam Mittal, Hetal ...</td>\n",
       "      <td>Seed Funding</td>\n",
       "      <td>500,000</td>\n",
       "      <td>NaN</td>\n",
       "    </tr>\n",
       "    <tr>\n",
       "      <th>2369</th>\n",
       "      <td>2</td>\n",
       "      <td>02/08/2017</td>\n",
       "      <td>Leverage Edu</td>\n",
       "      <td>Consumer Internet</td>\n",
       "      <td>Online platform for Higher Education Services</td>\n",
       "      <td>New Delhi</td>\n",
       "      <td>Kashyap Deorah, Anand Sankeshwar, Deepak Jain,...</td>\n",
       "      <td>Seed Funding</td>\n",
       "      <td>NaN</td>\n",
       "      <td>NaN</td>\n",
       "    </tr>\n",
       "    <tr>\n",
       "      <th>2370</th>\n",
       "      <td>1</td>\n",
       "      <td>02/08/2017</td>\n",
       "      <td>Ethinos</td>\n",
       "      <td>Technology</td>\n",
       "      <td>Digital Marketing Agency</td>\n",
       "      <td>Mumbai</td>\n",
       "      <td>Triton Investment Advisors</td>\n",
       "      <td>Private Equity</td>\n",
       "      <td>NaN</td>\n",
       "      <td>NaN</td>\n",
       "    </tr>\n",
       "    <tr>\n",
       "      <th>2371</th>\n",
       "      <td>0</td>\n",
       "      <td>01/08/2017</td>\n",
       "      <td>TouchKin</td>\n",
       "      <td>Technology</td>\n",
       "      <td>Predictive Care Platform</td>\n",
       "      <td>Bangalore</td>\n",
       "      <td>Kae Capital</td>\n",
       "      <td>Private Equity</td>\n",
       "      <td>1,300,000</td>\n",
       "      <td>NaN</td>\n",
       "    </tr>\n",
       "  </tbody>\n",
       "</table>\n",
       "<p>2372 rows × 10 columns</p>\n",
       "</div>"
      ],
      "text/plain": [
       "       SNo        Date       StartupName   IndustryVertical  \\\n",
       "0     2371  31/01/2015  couponmachine.in                NaN   \n",
       "1     2370  30/01/2015         Simplotel                NaN   \n",
       "2     2369  30/01/2015    Mad Street Den                NaN   \n",
       "3     2368  29/01/2015          Graphene                NaN   \n",
       "4     2367  29/01/2015        Printvenue                NaN   \n",
       "...    ...         ...               ...                ...   \n",
       "2367     4  02/08/2017      Click2Clinic  Consumer Internet   \n",
       "2368     3  02/08/2017              Zepo  Consumer Internet   \n",
       "2369     2  02/08/2017      Leverage Edu  Consumer Internet   \n",
       "2370     1  02/08/2017           Ethinos         Technology   \n",
       "2371     0  01/08/2017          TouchKin         Technology   \n",
       "\n",
       "                                        SubVertical CityLocation  \\\n",
       "0                                               NaN          NaN   \n",
       "1                                               NaN          NaN   \n",
       "2                                               NaN          NaN   \n",
       "3                                               NaN          NaN   \n",
       "4                                               NaN          NaN   \n",
       "...                                             ...          ...   \n",
       "2367                  healthcare service aggregator    Hyderabad   \n",
       "2368                         DIY Ecommerce platform       Mumbai   \n",
       "2369  Online platform for Higher Education Services    New Delhi   \n",
       "2370                       Digital Marketing Agency       Mumbai   \n",
       "2371                       Predictive Care Platform    Bangalore   \n",
       "\n",
       "                                          InvestorsName  InvestmentType  \\\n",
       "0                     UK based Group of Angel Investors    Seed Funding   \n",
       "1                                            MakeMyTrip  Private Equity   \n",
       "2                        Exfinity Fund, GrowX Ventures.  Private Equity   \n",
       "3                                        KARSEMVEN Fund  Private Equity   \n",
       "4                           Asia Pacific Internet Group  Private Equity   \n",
       "...                                                 ...             ...   \n",
       "2367                     Narottam Thudi, Shireesh Palle    Seed Funding   \n",
       "2368  Kunal Shah, LetsVenture, Anupam Mittal, Hetal ...    Seed Funding   \n",
       "2369  Kashyap Deorah, Anand Sankeshwar, Deepak Jain,...    Seed Funding   \n",
       "2370                         Triton Investment Advisors  Private Equity   \n",
       "2371                                        Kae Capital  Private Equity   \n",
       "\n",
       "     AmountInUSD                            Remarks  \n",
       "0        140,000                                NaN  \n",
       "1            NaN  Strategic Funding, Minority stake  \n",
       "2      1,500,000                                NaN  \n",
       "3        825,000                Govt backed VC Fund  \n",
       "4      4,500,000                                NaN  \n",
       "...          ...                                ...  \n",
       "2367     850,000                                NaN  \n",
       "2368     500,000                                NaN  \n",
       "2369         NaN                                NaN  \n",
       "2370         NaN                                NaN  \n",
       "2371   1,300,000                                NaN  \n",
       "\n",
       "[2372 rows x 10 columns]"
      ]
     },
     "execution_count": 5,
     "metadata": {},
     "output_type": "execute_result"
    }
   ],
   "source": [
    "df"
   ]
  },
  {
   "cell_type": "code",
   "execution_count": 6,
   "id": "6f1010c9-bd08-47a0-8297-37395e33df8a",
   "metadata": {},
   "outputs": [],
   "source": [
    "#Creating a column for years"
   ]
  },
  {
   "cell_type": "code",
   "execution_count": 7,
   "id": "609eca0f-78f2-4f56-9a54-a8ad91fa619f",
   "metadata": {},
   "outputs": [],
   "source": [
    "df['Year']=df['Date'].str.split('/').str[2]\n",
    "df['Year']=df['Year'].replace('',np.nan)"
   ]
  },
  {
   "cell_type": "code",
   "execution_count": 8,
   "id": "5e9e8810-01dc-4d23-9656-f5da35add2f8",
   "metadata": {},
   "outputs": [
    {
     "data": {
      "text/plain": [
       "array(['2015', nan, '2016', '2017'], dtype=object)"
      ]
     },
     "execution_count": 8,
     "metadata": {},
     "output_type": "execute_result"
    }
   ],
   "source": [
    "df['Year'].unique()"
   ]
  },
  {
   "cell_type": "code",
   "execution_count": 9,
   "id": "992f796c-d217-44c5-9bad-35140b774225",
   "metadata": {},
   "outputs": [
    {
     "data": {
      "text/plain": [
       "Year\n",
       "2015    931\n",
       "2016    993\n",
       "2017    443\n",
       "Name: count, dtype: int64"
      ]
     },
     "execution_count": 9,
     "metadata": {},
     "output_type": "execute_result"
    }
   ],
   "source": [
    "df['Year'].value_counts().sort_index(ascending=True)"
   ]
  },
  {
   "cell_type": "code",
   "execution_count": 10,
   "id": "c2c0fd69-a8d1-41d8-9591-21ce2938325f",
   "metadata": {},
   "outputs": [
    {
     "data": {
      "text/html": [
       "<div>\n",
       "<style scoped>\n",
       "    .dataframe tbody tr th:only-of-type {\n",
       "        vertical-align: middle;\n",
       "    }\n",
       "\n",
       "    .dataframe tbody tr th {\n",
       "        vertical-align: top;\n",
       "    }\n",
       "\n",
       "    .dataframe thead th {\n",
       "        text-align: right;\n",
       "    }\n",
       "</style>\n",
       "<table border=\"1\" class=\"dataframe\">\n",
       "  <thead>\n",
       "    <tr style=\"text-align: right;\">\n",
       "      <th></th>\n",
       "      <th>SNo</th>\n",
       "      <th>Date</th>\n",
       "      <th>StartupName</th>\n",
       "      <th>IndustryVertical</th>\n",
       "      <th>SubVertical</th>\n",
       "      <th>CityLocation</th>\n",
       "      <th>InvestorsName</th>\n",
       "      <th>InvestmentType</th>\n",
       "      <th>AmountInUSD</th>\n",
       "      <th>Remarks</th>\n",
       "      <th>Year</th>\n",
       "    </tr>\n",
       "  </thead>\n",
       "  <tbody>\n",
       "    <tr>\n",
       "      <th>0</th>\n",
       "      <td>2371</td>\n",
       "      <td>31/01/2015</td>\n",
       "      <td>couponmachine.in</td>\n",
       "      <td>NaN</td>\n",
       "      <td>NaN</td>\n",
       "      <td>NaN</td>\n",
       "      <td>UK based Group of Angel Investors</td>\n",
       "      <td>Seed Funding</td>\n",
       "      <td>140,000</td>\n",
       "      <td>NaN</td>\n",
       "      <td>2015</td>\n",
       "    </tr>\n",
       "    <tr>\n",
       "      <th>1</th>\n",
       "      <td>2370</td>\n",
       "      <td>30/01/2015</td>\n",
       "      <td>Simplotel</td>\n",
       "      <td>NaN</td>\n",
       "      <td>NaN</td>\n",
       "      <td>NaN</td>\n",
       "      <td>MakeMyTrip</td>\n",
       "      <td>Private Equity</td>\n",
       "      <td>NaN</td>\n",
       "      <td>Strategic Funding, Minority stake</td>\n",
       "      <td>2015</td>\n",
       "    </tr>\n",
       "    <tr>\n",
       "      <th>2</th>\n",
       "      <td>2369</td>\n",
       "      <td>30/01/2015</td>\n",
       "      <td>Mad Street Den</td>\n",
       "      <td>NaN</td>\n",
       "      <td>NaN</td>\n",
       "      <td>NaN</td>\n",
       "      <td>Exfinity Fund, GrowX Ventures.</td>\n",
       "      <td>Private Equity</td>\n",
       "      <td>1,500,000</td>\n",
       "      <td>NaN</td>\n",
       "      <td>2015</td>\n",
       "    </tr>\n",
       "    <tr>\n",
       "      <th>3</th>\n",
       "      <td>2368</td>\n",
       "      <td>29/01/2015</td>\n",
       "      <td>Graphene</td>\n",
       "      <td>NaN</td>\n",
       "      <td>NaN</td>\n",
       "      <td>NaN</td>\n",
       "      <td>KARSEMVEN Fund</td>\n",
       "      <td>Private Equity</td>\n",
       "      <td>825,000</td>\n",
       "      <td>Govt backed VC Fund</td>\n",
       "      <td>2015</td>\n",
       "    </tr>\n",
       "    <tr>\n",
       "      <th>4</th>\n",
       "      <td>2367</td>\n",
       "      <td>29/01/2015</td>\n",
       "      <td>Printvenue</td>\n",
       "      <td>NaN</td>\n",
       "      <td>NaN</td>\n",
       "      <td>NaN</td>\n",
       "      <td>Asia Pacific Internet Group</td>\n",
       "      <td>Private Equity</td>\n",
       "      <td>4,500,000</td>\n",
       "      <td>NaN</td>\n",
       "      <td>2015</td>\n",
       "    </tr>\n",
       "    <tr>\n",
       "      <th>...</th>\n",
       "      <td>...</td>\n",
       "      <td>...</td>\n",
       "      <td>...</td>\n",
       "      <td>...</td>\n",
       "      <td>...</td>\n",
       "      <td>...</td>\n",
       "      <td>...</td>\n",
       "      <td>...</td>\n",
       "      <td>...</td>\n",
       "      <td>...</td>\n",
       "      <td>...</td>\n",
       "    </tr>\n",
       "    <tr>\n",
       "      <th>2367</th>\n",
       "      <td>4</td>\n",
       "      <td>02/08/2017</td>\n",
       "      <td>Click2Clinic</td>\n",
       "      <td>Consumer Internet</td>\n",
       "      <td>healthcare service aggregator</td>\n",
       "      <td>Hyderabad</td>\n",
       "      <td>Narottam Thudi, Shireesh Palle</td>\n",
       "      <td>Seed Funding</td>\n",
       "      <td>850,000</td>\n",
       "      <td>NaN</td>\n",
       "      <td>2017</td>\n",
       "    </tr>\n",
       "    <tr>\n",
       "      <th>2368</th>\n",
       "      <td>3</td>\n",
       "      <td>02/08/2017</td>\n",
       "      <td>Zepo</td>\n",
       "      <td>Consumer Internet</td>\n",
       "      <td>DIY Ecommerce platform</td>\n",
       "      <td>Mumbai</td>\n",
       "      <td>Kunal Shah, LetsVenture, Anupam Mittal, Hetal ...</td>\n",
       "      <td>Seed Funding</td>\n",
       "      <td>500,000</td>\n",
       "      <td>NaN</td>\n",
       "      <td>2017</td>\n",
       "    </tr>\n",
       "    <tr>\n",
       "      <th>2369</th>\n",
       "      <td>2</td>\n",
       "      <td>02/08/2017</td>\n",
       "      <td>Leverage Edu</td>\n",
       "      <td>Consumer Internet</td>\n",
       "      <td>Online platform for Higher Education Services</td>\n",
       "      <td>New Delhi</td>\n",
       "      <td>Kashyap Deorah, Anand Sankeshwar, Deepak Jain,...</td>\n",
       "      <td>Seed Funding</td>\n",
       "      <td>NaN</td>\n",
       "      <td>NaN</td>\n",
       "      <td>2017</td>\n",
       "    </tr>\n",
       "    <tr>\n",
       "      <th>2370</th>\n",
       "      <td>1</td>\n",
       "      <td>02/08/2017</td>\n",
       "      <td>Ethinos</td>\n",
       "      <td>Technology</td>\n",
       "      <td>Digital Marketing Agency</td>\n",
       "      <td>Mumbai</td>\n",
       "      <td>Triton Investment Advisors</td>\n",
       "      <td>Private Equity</td>\n",
       "      <td>NaN</td>\n",
       "      <td>NaN</td>\n",
       "      <td>2017</td>\n",
       "    </tr>\n",
       "    <tr>\n",
       "      <th>2371</th>\n",
       "      <td>0</td>\n",
       "      <td>01/08/2017</td>\n",
       "      <td>TouchKin</td>\n",
       "      <td>Technology</td>\n",
       "      <td>Predictive Care Platform</td>\n",
       "      <td>Bangalore</td>\n",
       "      <td>Kae Capital</td>\n",
       "      <td>Private Equity</td>\n",
       "      <td>1,300,000</td>\n",
       "      <td>NaN</td>\n",
       "      <td>2017</td>\n",
       "    </tr>\n",
       "  </tbody>\n",
       "</table>\n",
       "<p>2372 rows × 11 columns</p>\n",
       "</div>"
      ],
      "text/plain": [
       "       SNo        Date       StartupName   IndustryVertical  \\\n",
       "0     2371  31/01/2015  couponmachine.in                NaN   \n",
       "1     2370  30/01/2015         Simplotel                NaN   \n",
       "2     2369  30/01/2015    Mad Street Den                NaN   \n",
       "3     2368  29/01/2015          Graphene                NaN   \n",
       "4     2367  29/01/2015        Printvenue                NaN   \n",
       "...    ...         ...               ...                ...   \n",
       "2367     4  02/08/2017      Click2Clinic  Consumer Internet   \n",
       "2368     3  02/08/2017              Zepo  Consumer Internet   \n",
       "2369     2  02/08/2017      Leverage Edu  Consumer Internet   \n",
       "2370     1  02/08/2017           Ethinos         Technology   \n",
       "2371     0  01/08/2017          TouchKin         Technology   \n",
       "\n",
       "                                        SubVertical CityLocation  \\\n",
       "0                                               NaN          NaN   \n",
       "1                                               NaN          NaN   \n",
       "2                                               NaN          NaN   \n",
       "3                                               NaN          NaN   \n",
       "4                                               NaN          NaN   \n",
       "...                                             ...          ...   \n",
       "2367                  healthcare service aggregator    Hyderabad   \n",
       "2368                         DIY Ecommerce platform       Mumbai   \n",
       "2369  Online platform for Higher Education Services    New Delhi   \n",
       "2370                       Digital Marketing Agency       Mumbai   \n",
       "2371                       Predictive Care Platform    Bangalore   \n",
       "\n",
       "                                          InvestorsName  InvestmentType  \\\n",
       "0                     UK based Group of Angel Investors    Seed Funding   \n",
       "1                                            MakeMyTrip  Private Equity   \n",
       "2                        Exfinity Fund, GrowX Ventures.  Private Equity   \n",
       "3                                        KARSEMVEN Fund  Private Equity   \n",
       "4                           Asia Pacific Internet Group  Private Equity   \n",
       "...                                                 ...             ...   \n",
       "2367                     Narottam Thudi, Shireesh Palle    Seed Funding   \n",
       "2368  Kunal Shah, LetsVenture, Anupam Mittal, Hetal ...    Seed Funding   \n",
       "2369  Kashyap Deorah, Anand Sankeshwar, Deepak Jain,...    Seed Funding   \n",
       "2370                         Triton Investment Advisors  Private Equity   \n",
       "2371                                        Kae Capital  Private Equity   \n",
       "\n",
       "     AmountInUSD                            Remarks  Year  \n",
       "0        140,000                                NaN  2015  \n",
       "1            NaN  Strategic Funding, Minority stake  2015  \n",
       "2      1,500,000                                NaN  2015  \n",
       "3        825,000                Govt backed VC Fund  2015  \n",
       "4      4,500,000                                NaN  2015  \n",
       "...          ...                                ...   ...  \n",
       "2367     850,000                                NaN  2017  \n",
       "2368     500,000                                NaN  2017  \n",
       "2369         NaN                                NaN  2017  \n",
       "2370         NaN                                NaN  2017  \n",
       "2371   1,300,000                                NaN  2017  \n",
       "\n",
       "[2372 rows x 11 columns]"
      ]
     },
     "execution_count": 10,
     "metadata": {},
     "output_type": "execute_result"
    }
   ],
   "source": [
    "df"
   ]
  },
  {
   "cell_type": "code",
   "execution_count": 11,
   "id": "59511dd0-a3e2-4e9c-988e-8030d197fd89",
   "metadata": {},
   "outputs": [],
   "source": [
    "#Amount In USD to float"
   ]
  },
  {
   "cell_type": "code",
   "execution_count": 12,
   "id": "8a1a2cab-521a-4f75-bf9e-1024022a16d9",
   "metadata": {},
   "outputs": [],
   "source": [
    "df['AmountInUSD']=df['AmountInUSD'].str.replace(',','')\n",
    "df['AmountInUSD']=df['AmountInUSD'].astype(float)\n",
    "df['AmountInUSD']=df['AmountInUSD'].fillna(0.0)"
   ]
  },
  {
   "cell_type": "code",
   "execution_count": 13,
   "id": "ec6e87ee-ae8f-4ad2-a02c-b8b0d2e28590",
   "metadata": {},
   "outputs": [
    {
     "data": {
      "text/html": [
       "<div>\n",
       "<style scoped>\n",
       "    .dataframe tbody tr th:only-of-type {\n",
       "        vertical-align: middle;\n",
       "    }\n",
       "\n",
       "    .dataframe tbody tr th {\n",
       "        vertical-align: top;\n",
       "    }\n",
       "\n",
       "    .dataframe thead th {\n",
       "        text-align: right;\n",
       "    }\n",
       "</style>\n",
       "<table border=\"1\" class=\"dataframe\">\n",
       "  <thead>\n",
       "    <tr style=\"text-align: right;\">\n",
       "      <th></th>\n",
       "      <th>SNo</th>\n",
       "      <th>Date</th>\n",
       "      <th>StartupName</th>\n",
       "      <th>IndustryVertical</th>\n",
       "      <th>SubVertical</th>\n",
       "      <th>CityLocation</th>\n",
       "      <th>InvestorsName</th>\n",
       "      <th>InvestmentType</th>\n",
       "      <th>AmountInUSD</th>\n",
       "      <th>Remarks</th>\n",
       "      <th>Year</th>\n",
       "    </tr>\n",
       "  </thead>\n",
       "  <tbody>\n",
       "    <tr>\n",
       "      <th>0</th>\n",
       "      <td>2371</td>\n",
       "      <td>31/01/2015</td>\n",
       "      <td>couponmachine.in</td>\n",
       "      <td>NaN</td>\n",
       "      <td>NaN</td>\n",
       "      <td>NaN</td>\n",
       "      <td>UK based Group of Angel Investors</td>\n",
       "      <td>Seed Funding</td>\n",
       "      <td>140000.0</td>\n",
       "      <td>NaN</td>\n",
       "      <td>2015</td>\n",
       "    </tr>\n",
       "    <tr>\n",
       "      <th>1</th>\n",
       "      <td>2370</td>\n",
       "      <td>30/01/2015</td>\n",
       "      <td>Simplotel</td>\n",
       "      <td>NaN</td>\n",
       "      <td>NaN</td>\n",
       "      <td>NaN</td>\n",
       "      <td>MakeMyTrip</td>\n",
       "      <td>Private Equity</td>\n",
       "      <td>0.0</td>\n",
       "      <td>Strategic Funding, Minority stake</td>\n",
       "      <td>2015</td>\n",
       "    </tr>\n",
       "    <tr>\n",
       "      <th>2</th>\n",
       "      <td>2369</td>\n",
       "      <td>30/01/2015</td>\n",
       "      <td>Mad Street Den</td>\n",
       "      <td>NaN</td>\n",
       "      <td>NaN</td>\n",
       "      <td>NaN</td>\n",
       "      <td>Exfinity Fund, GrowX Ventures.</td>\n",
       "      <td>Private Equity</td>\n",
       "      <td>1500000.0</td>\n",
       "      <td>NaN</td>\n",
       "      <td>2015</td>\n",
       "    </tr>\n",
       "    <tr>\n",
       "      <th>3</th>\n",
       "      <td>2368</td>\n",
       "      <td>29/01/2015</td>\n",
       "      <td>Graphene</td>\n",
       "      <td>NaN</td>\n",
       "      <td>NaN</td>\n",
       "      <td>NaN</td>\n",
       "      <td>KARSEMVEN Fund</td>\n",
       "      <td>Private Equity</td>\n",
       "      <td>825000.0</td>\n",
       "      <td>Govt backed VC Fund</td>\n",
       "      <td>2015</td>\n",
       "    </tr>\n",
       "    <tr>\n",
       "      <th>4</th>\n",
       "      <td>2367</td>\n",
       "      <td>29/01/2015</td>\n",
       "      <td>Printvenue</td>\n",
       "      <td>NaN</td>\n",
       "      <td>NaN</td>\n",
       "      <td>NaN</td>\n",
       "      <td>Asia Pacific Internet Group</td>\n",
       "      <td>Private Equity</td>\n",
       "      <td>4500000.0</td>\n",
       "      <td>NaN</td>\n",
       "      <td>2015</td>\n",
       "    </tr>\n",
       "    <tr>\n",
       "      <th>...</th>\n",
       "      <td>...</td>\n",
       "      <td>...</td>\n",
       "      <td>...</td>\n",
       "      <td>...</td>\n",
       "      <td>...</td>\n",
       "      <td>...</td>\n",
       "      <td>...</td>\n",
       "      <td>...</td>\n",
       "      <td>...</td>\n",
       "      <td>...</td>\n",
       "      <td>...</td>\n",
       "    </tr>\n",
       "    <tr>\n",
       "      <th>2367</th>\n",
       "      <td>4</td>\n",
       "      <td>02/08/2017</td>\n",
       "      <td>Click2Clinic</td>\n",
       "      <td>Consumer Internet</td>\n",
       "      <td>healthcare service aggregator</td>\n",
       "      <td>Hyderabad</td>\n",
       "      <td>Narottam Thudi, Shireesh Palle</td>\n",
       "      <td>Seed Funding</td>\n",
       "      <td>850000.0</td>\n",
       "      <td>NaN</td>\n",
       "      <td>2017</td>\n",
       "    </tr>\n",
       "    <tr>\n",
       "      <th>2368</th>\n",
       "      <td>3</td>\n",
       "      <td>02/08/2017</td>\n",
       "      <td>Zepo</td>\n",
       "      <td>Consumer Internet</td>\n",
       "      <td>DIY Ecommerce platform</td>\n",
       "      <td>Mumbai</td>\n",
       "      <td>Kunal Shah, LetsVenture, Anupam Mittal, Hetal ...</td>\n",
       "      <td>Seed Funding</td>\n",
       "      <td>500000.0</td>\n",
       "      <td>NaN</td>\n",
       "      <td>2017</td>\n",
       "    </tr>\n",
       "    <tr>\n",
       "      <th>2369</th>\n",
       "      <td>2</td>\n",
       "      <td>02/08/2017</td>\n",
       "      <td>Leverage Edu</td>\n",
       "      <td>Consumer Internet</td>\n",
       "      <td>Online platform for Higher Education Services</td>\n",
       "      <td>New Delhi</td>\n",
       "      <td>Kashyap Deorah, Anand Sankeshwar, Deepak Jain,...</td>\n",
       "      <td>Seed Funding</td>\n",
       "      <td>0.0</td>\n",
       "      <td>NaN</td>\n",
       "      <td>2017</td>\n",
       "    </tr>\n",
       "    <tr>\n",
       "      <th>2370</th>\n",
       "      <td>1</td>\n",
       "      <td>02/08/2017</td>\n",
       "      <td>Ethinos</td>\n",
       "      <td>Technology</td>\n",
       "      <td>Digital Marketing Agency</td>\n",
       "      <td>Mumbai</td>\n",
       "      <td>Triton Investment Advisors</td>\n",
       "      <td>Private Equity</td>\n",
       "      <td>0.0</td>\n",
       "      <td>NaN</td>\n",
       "      <td>2017</td>\n",
       "    </tr>\n",
       "    <tr>\n",
       "      <th>2371</th>\n",
       "      <td>0</td>\n",
       "      <td>01/08/2017</td>\n",
       "      <td>TouchKin</td>\n",
       "      <td>Technology</td>\n",
       "      <td>Predictive Care Platform</td>\n",
       "      <td>Bangalore</td>\n",
       "      <td>Kae Capital</td>\n",
       "      <td>Private Equity</td>\n",
       "      <td>1300000.0</td>\n",
       "      <td>NaN</td>\n",
       "      <td>2017</td>\n",
       "    </tr>\n",
       "  </tbody>\n",
       "</table>\n",
       "<p>2372 rows × 11 columns</p>\n",
       "</div>"
      ],
      "text/plain": [
       "       SNo        Date       StartupName   IndustryVertical  \\\n",
       "0     2371  31/01/2015  couponmachine.in                NaN   \n",
       "1     2370  30/01/2015         Simplotel                NaN   \n",
       "2     2369  30/01/2015    Mad Street Den                NaN   \n",
       "3     2368  29/01/2015          Graphene                NaN   \n",
       "4     2367  29/01/2015        Printvenue                NaN   \n",
       "...    ...         ...               ...                ...   \n",
       "2367     4  02/08/2017      Click2Clinic  Consumer Internet   \n",
       "2368     3  02/08/2017              Zepo  Consumer Internet   \n",
       "2369     2  02/08/2017      Leverage Edu  Consumer Internet   \n",
       "2370     1  02/08/2017           Ethinos         Technology   \n",
       "2371     0  01/08/2017          TouchKin         Technology   \n",
       "\n",
       "                                        SubVertical CityLocation  \\\n",
       "0                                               NaN          NaN   \n",
       "1                                               NaN          NaN   \n",
       "2                                               NaN          NaN   \n",
       "3                                               NaN          NaN   \n",
       "4                                               NaN          NaN   \n",
       "...                                             ...          ...   \n",
       "2367                  healthcare service aggregator    Hyderabad   \n",
       "2368                         DIY Ecommerce platform       Mumbai   \n",
       "2369  Online platform for Higher Education Services    New Delhi   \n",
       "2370                       Digital Marketing Agency       Mumbai   \n",
       "2371                       Predictive Care Platform    Bangalore   \n",
       "\n",
       "                                          InvestorsName  InvestmentType  \\\n",
       "0                     UK based Group of Angel Investors    Seed Funding   \n",
       "1                                            MakeMyTrip  Private Equity   \n",
       "2                        Exfinity Fund, GrowX Ventures.  Private Equity   \n",
       "3                                        KARSEMVEN Fund  Private Equity   \n",
       "4                           Asia Pacific Internet Group  Private Equity   \n",
       "...                                                 ...             ...   \n",
       "2367                     Narottam Thudi, Shireesh Palle    Seed Funding   \n",
       "2368  Kunal Shah, LetsVenture, Anupam Mittal, Hetal ...    Seed Funding   \n",
       "2369  Kashyap Deorah, Anand Sankeshwar, Deepak Jain,...    Seed Funding   \n",
       "2370                         Triton Investment Advisors  Private Equity   \n",
       "2371                                        Kae Capital  Private Equity   \n",
       "\n",
       "      AmountInUSD                            Remarks  Year  \n",
       "0        140000.0                                NaN  2015  \n",
       "1             0.0  Strategic Funding, Minority stake  2015  \n",
       "2       1500000.0                                NaN  2015  \n",
       "3        825000.0                Govt backed VC Fund  2015  \n",
       "4       4500000.0                                NaN  2015  \n",
       "...           ...                                ...   ...  \n",
       "2367     850000.0                                NaN  2017  \n",
       "2368     500000.0                                NaN  2017  \n",
       "2369          0.0                                NaN  2017  \n",
       "2370          0.0                                NaN  2017  \n",
       "2371    1300000.0                                NaN  2017  \n",
       "\n",
       "[2372 rows x 11 columns]"
      ]
     },
     "execution_count": 13,
     "metadata": {},
     "output_type": "execute_result"
    }
   ],
   "source": [
    "df"
   ]
  },
  {
   "cell_type": "code",
   "execution_count": 14,
   "id": "24021e6c-2948-4f71-9b5b-73b2b6ed4f55",
   "metadata": {},
   "outputs": [],
   "source": [
    "#Problem 1"
   ]
  },
  {
   "cell_type": "code",
   "execution_count": 15,
   "id": "e69d4134-0a03-4ac8-815f-508ec6818c45",
   "metadata": {},
   "outputs": [],
   "source": [
    "a=df['IndustryVertical'].value_counts()\n",
    "st_most=a.index[0]"
   ]
  },
  {
   "cell_type": "code",
   "execution_count": 16,
   "id": "514b8978-17b8-4ec4-8052-abdf10c15320",
   "metadata": {},
   "outputs": [],
   "source": [
    "#df_st_most=df.loc[df['IndustryVertical']==st_most]"
   ]
  },
  {
   "cell_type": "code",
   "execution_count": 17,
   "id": "e69b4440-0f06-46cb-a00e-5a3ed90a2650",
   "metadata": {},
   "outputs": [
    {
     "data": {
      "text/plain": [
       "InvestorsName\n",
       "Undisclosed Investors                                                                    33\n",
       "Undisclosed investors                                                                    27\n",
       "Indian Angel Network                                                                     24\n",
       "Ratan Tata                                                                               24\n",
       "Kalaari Capital                                                                          16\n",
       "                                                                                         ..\n",
       "Brigade Innovations LLP, TV Mohandas Pai, Suhail Rahman, Bobby Reddy, M George Oommen     1\n",
       "500 Startups, Purvi Capital, Rajan Anandan, Abhishek Gupta                                1\n",
       "Corvus Ventures, MAPE Advisory Group                                                      1\n",
       "SBI-FMO Fund, Bessemer Venture Partners, Catamaran Ventures                               1\n",
       "August Capital Partners, Michael Blakey                                                   1\n",
       "Name: count, Length: 1885, dtype: int64"
      ]
     },
     "execution_count": 17,
     "metadata": {},
     "output_type": "execute_result"
    }
   ],
   "source": [
    "b =df['InvestorsName'].value_counts()\n",
    "b"
   ]
  },
  {
   "cell_type": "code",
   "execution_count": 18,
   "id": "a9bc62be-70dd-45ee-af98-e9370c4c59e9",
   "metadata": {},
   "outputs": [],
   "source": [
    "st_most_in=b.index[2]"
   ]
  },
  {
   "cell_type": "code",
   "execution_count": 19,
   "id": "bf9ea3c2-7637-44ea-ae5d-8e2836ac006b",
   "metadata": {},
   "outputs": [],
   "source": [
    "sv_most=df['SubVertical'].value_counts().index[0]"
   ]
  },
  {
   "cell_type": "code",
   "execution_count": 20,
   "id": "f5a43a9f-dd3e-4b05-8c2f-e075b17ec390",
   "metadata": {},
   "outputs": [
    {
     "name": "stdout",
     "output_type": "stream",
     "text": [
      "Type of Start-ups that get the most fundings:  Consumer Internet\n",
      "Imp Investors:  Indian Angel Network\n",
      "Hot fields that get a lot of funding:  Online Pharmacy\n"
     ]
    }
   ],
   "source": [
    "print(\"Type of Start-ups that get the most fundings: \", st_most)\n",
    "print(\"Imp Investors: \", st_most_in)\n",
    "print(\"Hot fields that get a lot of funding: \",sv_most)"
   ]
  },
  {
   "cell_type": "code",
   "execution_count": 21,
   "id": "436934ce-8dbe-488b-9338-05c6625475db",
   "metadata": {},
   "outputs": [],
   "source": [
    "#problem 2"
   ]
  },
  {
   "cell_type": "code",
   "execution_count": 22,
   "id": "0370a4c5-d70e-44d7-8a3b-29c22b0eb68f",
   "metadata": {},
   "outputs": [],
   "source": [
    "df['AmountInUSD']=df['AmountInUSD']/1000000\n",
    "z=df.groupby('Year')['AmountInUSD'].sum()"
   ]
  },
  {
   "cell_type": "code",
   "execution_count": 23,
   "id": "c4c11c26-6fcc-4ae3-ba48-e957e17b24cc",
   "metadata": {},
   "outputs": [
    {
     "data": {
      "text/plain": [
       "Year\n",
       "2015    8669.672368\n",
       "2016    3828.088608\n",
       "2017    5846.275500\n",
       "Name: AmountInUSD, dtype: float64"
      ]
     },
     "execution_count": 23,
     "metadata": {},
     "output_type": "execute_result"
    }
   ],
   "source": [
    "z"
   ]
  },
  {
   "cell_type": "code",
   "execution_count": 24,
   "id": "5e1a414f-c418-4fd7-b51f-8cc309fea093",
   "metadata": {},
   "outputs": [
    {
     "data": {
      "image/png": "[encoded data removed]",
      "text/plain": [
       "<Figure size 640x480 with 1 Axes>"
      ]
     },
     "metadata": {},
     "output_type": "display_data"
    }
   ],
   "source": [
    "plt.plot(z.index,z.values, marker='.')\n",
    "plt.yticks(z.values)\n",
    "plt.title(\"FUnnding per Year Trends\")\n",
    "plt.xlabel(\"Year\")\n",
    "plt.ylabel(\"Funding in USD(in M)\")\n",
    "plt.grid()\n",
    "plt.show()"
   ]
  },
  {
   "cell_type": "code",
   "execution_count": 25,
   "id": "e29df10a-687e-4649-81e0-85ed077ea741",
   "metadata": {},
   "outputs": [],
   "source": [
    "#problem 3"
   ]
  },
  {
   "cell_type": "code",
   "execution_count": 26,
   "id": "012c7fde-6bbb-4e00-a6bd-9192d8b720c6",
   "metadata": {},
   "outputs": [],
   "source": [
    "df['CityLocation']=df['CityLocation'].str.split(' / ').str[0]\n",
    "df['CityLocation']=df['CityLocation'].str.split('/ ').str[0]\n",
    "df['CityLocation']=df['CityLocation'].str.split('/').str[0]\n",
    "df['CityLocation']=df['CityLocation'].str.split('/ ').str[0]\n",
    "df['CityLocation']=df['CityLocation'].replace('bangalore','Bangalore')\n",
    "df['CityLocation']=df['CityLocation'].replace('Delhi','New Delhi')"
   ]
  },
  {
   "cell_type": "code",
   "execution_count": 27,
   "id": "f28b8793-1d6d-4876-b592-ff8a18d68476",
   "metadata": {},
   "outputs": [
    {
     "data": {
      "text/plain": [
       "array([nan, 'Noida', 'Chennai', 'Bangalore', 'Pune', 'Gurgaon', 'Mumbai',\n",
       "       'Hyderabad', 'New Delhi', 'Jaipur', 'Chandigarh', 'Vadodara',\n",
       "       'Udupi', 'Kolkata', 'Dallas', 'Goa', 'Ahmedabad', 'Udaipur',\n",
       "       'Coimbatore', 'Kanpur', 'India', 'Nagpur', 'US', 'Bhopal',\n",
       "       'New York', 'Singapore', 'Belgaum', 'Gwalior', 'USA', 'Boston',\n",
       "       'Jodhpur', 'Siliguri', 'Indore', 'Varanasi', 'Seattle', 'London',\n",
       "       'SFO', 'Trivandrum', 'Lucknow', 'Kozhikode', 'Kerala', 'Agra',\n",
       "       'Hubli', 'Kochi', 'Karur', 'Panaji', 'Missourie', 'Surat'],\n",
       "      dtype=object)"
      ]
     },
     "execution_count": 27,
     "metadata": {},
     "output_type": "execute_result"
    }
   ],
   "source": [
    "df['CityLocation'].unique()"
   ]
  },
  {
   "cell_type": "code",
   "execution_count": 28,
   "id": "9a060d91-4279-4386-8f1b-ae8d46c10598",
   "metadata": {},
   "outputs": [
    {
     "data": {
      "text/plain": [
       "CityLocation\n",
       "Bangalore    635\n",
       "Mumbai       449\n",
       "New Delhi    389\n",
       "Gurgaon      241\n",
       "Pune          91\n",
       "Noida         79\n",
       "Hyderabad     77\n",
       "Chennai       67\n",
       "Ahmedabad     35\n",
       "Jaipur        25\n",
       "Name: count, dtype: int64"
      ]
     },
     "execution_count": 28,
     "metadata": {},
     "output_type": "execute_result"
    }
   ],
   "source": [
    "p=df['CityLocation'].value_counts().head(10)\n",
    "p"
   ]
  },
  {
   "cell_type": "code",
   "execution_count": 29,
   "id": "5c7ad06f-65c1-424c-b76a-01471a9ae333",
   "metadata": {},
   "outputs": [
    {
     "data": {
      "image/png": "[encoded data removed]",
      "text/plain": [
       "<Figure size 640x480 with 1 Axes>"
      ]
     },
     "metadata": {},
     "output_type": "display_data"
    }
   ],
   "source": [
    "plt.pie(p.values, labels=p.index, autopct=\"%0.2f%%\", radius=1.2)\n",
    "plt.title(\"Top 10 Cities in India which have most number of Startups\")\n",
    "plt.show()"
   ]
  },
  {
   "cell_type": "code",
   "execution_count": 30,
   "id": "ece6e40f-6ba9-49d0-a753-07832705b620",
   "metadata": {},
   "outputs": [],
   "source": [
    "#Problem 4"
   ]
  },
  {
   "cell_type": "code",
   "execution_count": 31,
   "id": "5051cba1-2fa7-4412-abd7-f31c5b66e480",
   "metadata": {},
   "outputs": [],
   "source": [
    "amt= df.groupby('CityLocation')['AmountInUSD'].sum()\n",
    "amt.sort_values(ascending=False, inplace=True)"
   ]
  },
  {
   "cell_type": "code",
   "execution_count": 32,
   "id": "2177a86e-425a-4df0-909b-3d51c422ff38",
   "metadata": {},
   "outputs": [
    {
     "data": {
      "text/plain": [
       "CityLocation\n",
       "Bangalore    8422.974108\n",
       "New Delhi    2818.247500\n",
       "Mumbai       2354.934500\n",
       "Gurgaon      2069.021500\n",
       "Chennai       411.105000\n",
       "Name: AmountInUSD, dtype: float64"
      ]
     },
     "execution_count": 32,
     "metadata": {},
     "output_type": "execute_result"
    }
   ],
   "source": [
    "amt=amt.head(5)\n",
    "amt"
   ]
  },
  {
   "cell_type": "code",
   "execution_count": 33,
   "id": "55fe8c21-0676-44fe-bea8-6b3f4153a8e0",
   "metadata": {},
   "outputs": [
    {
     "data": {
      "image/png": "[encoded data removed]",
      "text/plain": [
       "<Figure size 640x480 with 1 Axes>"
      ]
     },
     "metadata": {},
     "output_type": "display_data"
    }
   ],
   "source": [
    "plt.pie(amt.values, labels=amt.index, autopct=\"%0.2f%%\", radius=1)\n",
    "plt.title(\"Top 5 Cities for the most fundings\")\n",
    "plt.show()"
   ]
  },
  {
   "cell_type": "code",
   "execution_count": 34,
   "id": "79be7093-e634-4ecd-9a04-da6300345f57",
   "metadata": {},
   "outputs": [],
   "source": [
    "#Problem 5"
   ]
  },
  {
   "cell_type": "code",
   "execution_count": 35,
   "id": "2a6d3ea8-87d3-40d1-8a20-dae50915430a",
   "metadata": {},
   "outputs": [],
   "source": [
    "df['InvestmentType']=df['InvestmentType'].replace(\"SeedFunding\",\"Seed Funding\")\n",
    "df['InvestmentType']=df['InvestmentType'].replace(\"PrivateEquity\",\"Private Equity\")\n",
    "df['InvestmentType']=df['InvestmentType'].replace(\"Crowd funding\",\"Crowd Funding\")"
   ]
  },
  {
   "cell_type": "code",
   "execution_count": 36,
   "id": "d9c2cf42-4d19-4c11-9d70-56361d8827d0",
   "metadata": {},
   "outputs": [
    {
     "data": {
      "text/plain": [
       "array(['Seed Funding', 'Private Equity', 'Crowd Funding', nan,\n",
       "       'Debt Funding'], dtype=object)"
      ]
     },
     "execution_count": 36,
     "metadata": {},
     "output_type": "execute_result"
    }
   ],
   "source": [
    "df['InvestmentType'].unique()"
   ]
  },
  {
   "cell_type": "code",
   "execution_count": 37,
   "id": "14dd461d-079a-44a0-991a-c015350ef36d",
   "metadata": {},
   "outputs": [
    {
     "data": {
      "text/plain": [
       "InvestmentType\n",
       "Seed Funding      1301\n",
       "Private Equity    1067\n",
       "Crowd Funding        2\n",
       "Debt Funding         1\n",
       "Name: count, dtype: int64"
      ]
     },
     "execution_count": 37,
     "metadata": {},
     "output_type": "execute_result"
    }
   ],
   "source": [
    "v= df['InvestmentType'].value_counts()\n",
    "v"
   ]
  },
  {
   "cell_type": "code",
   "execution_count": 38,
   "id": "1c62b62a-7326-4469-b869-71d319ea5725",
   "metadata": {},
   "outputs": [
    {
     "data": {
      "image/png": "[encoded data removed]",
      "text/plain": [
       "<Figure size 640x480 with 1 Axes>"
      ]
     },
     "metadata": {},
     "output_type": "display_data"
    }
   ],
   "source": [
    "x=np.array([v.index[0], v.index[2], v.index[1], v.index[3]])\n",
    "y=np.array([v.values[0],v.values[2],v.values[1],v.values[3]])\n",
    "plt.pie(y, labels=x, autopct=\"%0.2f%%\")\n",
    "plt.show()"
   ]
  },
  {
   "cell_type": "code",
   "execution_count": 39,
   "id": "1c4c824f-612a-4c7d-9535-41e2dd1bf39f",
   "metadata": {},
   "outputs": [],
   "source": [
    "#Problem 6"
   ]
  },
  {
   "cell_type": "code",
   "execution_count": 40,
   "id": "080ee6cb-956e-4b99-af6a-f50bba77af05",
   "metadata": {},
   "outputs": [
    {
     "data": {
      "text/plain": [
       "IndustryVertical\n",
       "Consumer Internet                             772\n",
       "Technology                                    313\n",
       "eCommerce                                     171\n",
       "ECommerce                                      53\n",
       "Healthcare                                     30\n",
       "                                             ... \n",
       "Gourmet Food Discovery & Delivery platform      1\n",
       "Restaurant reservation app                      1\n",
       "Spam Call block App                             1\n",
       "Online Insurance Aggregator                     1\n",
       "Restaurant Management Platform                  1\n",
       "Name: count, Length: 743, dtype: int64"
      ]
     },
     "execution_count": 40,
     "metadata": {},
     "output_type": "execute_result"
    }
   ],
   "source": [
    "df['IndustryVertical'].value_counts()"
   ]
  },
  {
   "cell_type": "code",
   "execution_count": 41,
   "id": "689ee7d8-f2b2-49c2-89ff-f02c8b5083bc",
   "metadata": {},
   "outputs": [],
   "source": [
    "df['IndustryVertical']=df['IndustryVertical'].replace(\"eCommerce\",\"ECommerce\")"
   ]
  },
  {
   "cell_type": "code",
   "execution_count": 42,
   "id": "0bc52b11-268a-4a15-91ec-e9c7c0da2ed7",
   "metadata": {},
   "outputs": [
    {
     "data": {
      "text/plain": [
       "IndustryVertical\n",
       "Consumer Internet    772\n",
       "Technology           313\n",
       "ECommerce            224\n",
       "Healthcare            30\n",
       "Logistics             24\n",
       "Name: count, dtype: int64"
      ]
     },
     "execution_count": 42,
     "metadata": {},
     "output_type": "execute_result"
    }
   ],
   "source": [
    "iv=df['IndustryVertical'].value_counts().head()\n",
    "iv"
   ]
  },
  {
   "cell_type": "code",
   "execution_count": 43,
   "id": "8497efda-92e9-4244-8e99-d9c0af8dfa62",
   "metadata": {},
   "outputs": [],
   "source": [
    "df_ci = df.loc[df['IndustryVertical']=='Consumer Internet']\n",
    "df_t = df.loc[df['IndustryVertical']=='Technology']\n",
    "df_ec = df.loc[df['IndustryVertical']=='ECommerce']\n",
    "df_h = df.loc[df['IndustryVertical']=='Healthcare']\n",
    "df_l = df.loc[df['IndustryVertical']=='Logistics']"
   ]
  },
  {
   "cell_type": "code",
   "execution_count": 44,
   "id": "0746d54a-bb42-4e1e-b303-e123cfdcd6f5",
   "metadata": {},
   "outputs": [],
   "source": [
    "amt_ci = df_ci['AmountInUSD'].sum()\n",
    "amt_t = df_t['AmountInUSD'].sum()\n",
    "amt_ec = df_ec['AmountInUSD'].sum()\n",
    "amt_h = df_h['AmountInUSD'].sum()\n",
    "amt_l = df_l['AmountInUSD'].sum()"
   ]
  },
  {
   "cell_type": "code",
   "execution_count": 45,
   "id": "b25975c1-3e21-47c8-993e-4d2999e83f46",
   "metadata": {},
   "outputs": [
    {
     "data": {
      "image/png": "[encoded data removed]",
      "text/plain": [
       "<Figure size 640x480 with 1 Axes>"
      ]
     },
     "metadata": {},
     "output_type": "display_data"
    }
   ],
   "source": [
    "x=np.array([\"Consumer Internet\",\"Technology\",\"ECommerce\",\"Healthcare\",\"Logistics\"])\n",
    "y=np.array([amt_ci, amt_t, amt_ec, amt_h, amt_l])\n",
    "plt.pie(y, labels=x, autopct=\"%0.2f%%\")\n",
    "plt.title(\"Top 5 with Amount Investment in %tage\")\n",
    "plt.show()"
   ]
  },
  {
   "cell_type": "code",
   "execution_count": 46,
   "id": "041c7803-1b42-4729-8e13-c39e0433f069",
   "metadata": {},
   "outputs": [],
   "source": [
    "#Problem 9"
   ]
  },
  {
   "cell_type": "code",
   "execution_count": 47,
   "id": "1dc66d04-1a3e-48eb-a77b-f168db9d9774",
   "metadata": {},
   "outputs": [],
   "source": [
    "df['InvestorsName']=df['InvestorsName'].str.lower()\n",
    "df['InvestorsName']=df['InvestorsName'].replace('undisclosed investor','undisclosed investors')\n",
    "df['InvestorsName']=df['InvestorsName'].replace('undisclosed','undisclosed investors')\n",
    "df_wun=df.loc[df['InvestorsName']!='undisclosed investors']"
   ]
  },
  {
   "cell_type": "code",
   "execution_count": 48,
   "id": "91320a93-bef6-44dd-95db-aeb407dac01d",
   "metadata": {},
   "outputs": [
    {
     "data": {
      "text/plain": [
       "InvestorsName\n",
       "indian angel network                                                                     25\n",
       "ratan tata                                                                               24\n",
       "group of angel investors                                                                 20\n",
       "kalaari capital                                                                          16\n",
       "sequoia capital                                                                          14\n",
       "                                                                                         ..\n",
       "brigade innovations llp, tv mohandas pai, suhail rahman, bobby reddy, m george oommen     1\n",
       "500 startups, purvi capital, rajan anandan, abhishek gupta                                1\n",
       "corvus ventures, mape advisory group                                                      1\n",
       "sbi-fmo fund, bessemer venture partners, catamaran ventures                               1\n",
       "triton investment advisors                                                                1\n",
       "Name: count, Length: 1860, dtype: int64"
      ]
     },
     "execution_count": 48,
     "metadata": {},
     "output_type": "execute_result"
    }
   ],
   "source": [
    "z=df_wun['InvestorsName'].value_counts()\n",
    "z"
   ]
  },
  {
   "cell_type": "code",
   "execution_count": 49,
   "id": "16b9e9af-e522-413d-8c4c-7f40fb8befcc",
   "metadata": {},
   "outputs": [
    {
     "name": "stdout",
     "output_type": "stream",
     "text": [
      "indian angel network 25\n"
     ]
    }
   ],
   "source": [
    "print(z.index[0], z.values[0])"
   ]
  },
  {
   "cell_type": "code",
   "execution_count": 50,
   "id": "7e9b77c2-955b-4481-af44-f9c22c55a787",
   "metadata": {},
   "outputs": [],
   "source": [
    "#Problem 7 & 8"
   ]
  },
  {
   "cell_type": "code",
   "execution_count": 51,
   "id": "0a6b3fad-d6d8-4410-b013-84addd56308e",
   "metadata": {},
   "outputs": [],
   "source": [
    "df['StartupName']=df['StartupName'].str.lower()"
   ]
  },
  {
   "cell_type": "code",
   "execution_count": 52,
   "id": "de33668b-f90c-4dde-963f-05656f8403d3",
   "metadata": {},
   "outputs": [],
   "source": [
    "df['StartupName']=df['StartupName'].replace('ola cabs', 'ola')\n",
    "df['StartupName']=df['StartupName'].replace('olacabs', 'ola')\n",
    "\n",
    "df['StartupName']=df['StartupName'].replace('oyo rooms', 'oyo')\n",
    "df['StartupName']=df['StartupName'].replace('oyorooms', 'oyo')\n",
    "\n",
    "df['StartupName']=df['StartupName'].replace('paytm marketplace', 'paytm')\n",
    "\n",
    "df['StartupName']=df['StartupName'].replace('flipkart.com', 'flipkart')"
   ]
  },
  {
   "cell_type": "code",
   "execution_count": 53,
   "id": "9901ef72-3247-4f84-ae8f-7ef9920c8617",
   "metadata": {},
   "outputs": [],
   "source": [
    "t5=(df.groupby('StartupName')['AmountInUSD'].sum()).sort_values(ascending = False).head()"
   ]
  },
  {
   "cell_type": "code",
   "execution_count": 54,
   "id": "1287c1bf-e0b5-4873-9eb7-d9050aca18d8",
   "metadata": {},
   "outputs": [
    {
     "data": {
      "text/plain": [
       "StartupName\n",
       "paytm       2340.0\n",
       "flipkart    2259.7\n",
       "ola         1899.5\n",
       "snapdeal     700.0\n",
       "oyo          637.0\n",
       "Name: AmountInUSD, dtype: float64"
      ]
     },
     "execution_count": 54,
     "metadata": {},
     "output_type": "execute_result"
    }
   ],
   "source": [
    "t5"
   ]
  },
  {
   "cell_type": "code",
   "execution_count": 55,
   "id": "06daecae-5d96-41de-b788-91f78850606b",
   "metadata": {},
   "outputs": [
    {
     "data": {
      "text/plain": [
       "StartupName\n",
       "ola          9\n",
       "swiggy       7\n",
       "urbanclap    6\n",
       "paytm        6\n",
       "oyo          6\n",
       "Name: count, dtype: int64"
      ]
     },
     "execution_count": 55,
     "metadata": {},
     "output_type": "execute_result"
    }
   ],
   "source": [
    "t5m=df['StartupName'].value_counts()\n",
    "t5m.head()"
   ]
  },
  {
   "cell_type": "markdown",
   "id": "757c3874-2922-4d96-8d75-07fdaca56209",
   "metadata": {},
   "source": [
    "#Case_Study_2"
   ]
  },
  {
   "cell_type": "code",
   "execution_count": 56,
   "id": "837ecf2f-ad97-4d6f-8ad5-6946aa148ade",
   "metadata": {},
   "outputs": [],
   "source": [
    "a= np.array(['Bangalore','Mumbai','New Delhi','Noida','Gurgaon'])\n",
    "df_new= df.loc[df['CityLocation'].isin(a)]"
   ]
  },
  {
   "cell_type": "code",
   "execution_count": 57,
   "id": "359d4ce9-6ca2-4a38-8850-c4aac372d797",
   "metadata": {},
   "outputs": [
    {
     "data": {
      "text/html": [
       "<div>\n",
       "<style scoped>\n",
       "    .dataframe tbody tr th:only-of-type {\n",
       "        vertical-align: middle;\n",
       "    }\n",
       "\n",
       "    .dataframe tbody tr th {\n",
       "        vertical-align: top;\n",
       "    }\n",
       "\n",
       "    .dataframe thead th {\n",
       "        text-align: right;\n",
       "    }\n",
       "</style>\n",
       "<table border=\"1\" class=\"dataframe\">\n",
       "  <thead>\n",
       "    <tr style=\"text-align: right;\">\n",
       "      <th></th>\n",
       "      <th>SNo</th>\n",
       "      <th>Date</th>\n",
       "      <th>StartupName</th>\n",
       "      <th>IndustryVertical</th>\n",
       "      <th>SubVertical</th>\n",
       "      <th>CityLocation</th>\n",
       "      <th>InvestorsName</th>\n",
       "      <th>InvestmentType</th>\n",
       "      <th>AmountInUSD</th>\n",
       "      <th>Remarks</th>\n",
       "      <th>Year</th>\n",
       "    </tr>\n",
       "  </thead>\n",
       "  <tbody>\n",
       "    <tr>\n",
       "      <th>171</th>\n",
       "      <td>2200</td>\n",
       "      <td>29/04/2015</td>\n",
       "      <td>travel triangle</td>\n",
       "      <td>Online Travel Marketplace</td>\n",
       "      <td>NaN</td>\n",
       "      <td>Noida</td>\n",
       "      <td>bessemer venture partners, saif partners</td>\n",
       "      <td>Private Equity</td>\n",
       "      <td>8.0</td>\n",
       "      <td>Series B</td>\n",
       "      <td>2015</td>\n",
       "    </tr>\n",
       "    <tr>\n",
       "      <th>173</th>\n",
       "      <td>2198</td>\n",
       "      <td>29/04/2015</td>\n",
       "      <td>tradelab</td>\n",
       "      <td>Financial Markets Software</td>\n",
       "      <td>NaN</td>\n",
       "      <td>Bangalore</td>\n",
       "      <td>rainmatter</td>\n",
       "      <td>Seed Funding</td>\n",
       "      <td>0.4</td>\n",
       "      <td>NaN</td>\n",
       "      <td>2015</td>\n",
       "    </tr>\n",
       "    <tr>\n",
       "      <th>174</th>\n",
       "      <td>2197</td>\n",
       "      <td>29/04/2015</td>\n",
       "      <td>dazo</td>\n",
       "      <td>Mobile Food Ordering app</td>\n",
       "      <td>NaN</td>\n",
       "      <td>Bangalore</td>\n",
       "      <td>sumit jain, aprameya radhakrishna, alok goel, ...</td>\n",
       "      <td>Seed Funding</td>\n",
       "      <td>0.0</td>\n",
       "      <td>NaN</td>\n",
       "      <td>2015</td>\n",
       "    </tr>\n",
       "    <tr>\n",
       "      <th>175</th>\n",
       "      <td>2196</td>\n",
       "      <td>29/04/2015</td>\n",
       "      <td>tracxn</td>\n",
       "      <td>Startup Analytics platform</td>\n",
       "      <td>NaN</td>\n",
       "      <td>Bangalore</td>\n",
       "      <td>saif partners</td>\n",
       "      <td>Private Equity</td>\n",
       "      <td>3.5</td>\n",
       "      <td>Series A</td>\n",
       "      <td>2015</td>\n",
       "    </tr>\n",
       "    <tr>\n",
       "      <th>177</th>\n",
       "      <td>2194</td>\n",
       "      <td>29/04/2015</td>\n",
       "      <td>reglobe</td>\n",
       "      <td>Used Gadgets Buy / Refurbishing</td>\n",
       "      <td>NaN</td>\n",
       "      <td>Gurgaon</td>\n",
       "      <td>bessemer ventures, blume ventures</td>\n",
       "      <td>Seed Funding</td>\n",
       "      <td>1.0</td>\n",
       "      <td>NaN</td>\n",
       "      <td>2015</td>\n",
       "    </tr>\n",
       "    <tr>\n",
       "      <th>...</th>\n",
       "      <td>...</td>\n",
       "      <td>...</td>\n",
       "      <td>...</td>\n",
       "      <td>...</td>\n",
       "      <td>...</td>\n",
       "      <td>...</td>\n",
       "      <td>...</td>\n",
       "      <td>...</td>\n",
       "      <td>...</td>\n",
       "      <td>...</td>\n",
       "      <td>...</td>\n",
       "    </tr>\n",
       "    <tr>\n",
       "      <th>2366</th>\n",
       "      <td>5</td>\n",
       "      <td>01/07/2017</td>\n",
       "      <td>billion loans</td>\n",
       "      <td>Consumer Internet</td>\n",
       "      <td>Peer to Peer Lending platform</td>\n",
       "      <td>Bangalore</td>\n",
       "      <td>reliance corporate advisory services ltd</td>\n",
       "      <td>Seed Funding</td>\n",
       "      <td>1.0</td>\n",
       "      <td>NaN</td>\n",
       "      <td>2017</td>\n",
       "    </tr>\n",
       "    <tr>\n",
       "      <th>2368</th>\n",
       "      <td>3</td>\n",
       "      <td>02/08/2017</td>\n",
       "      <td>zepo</td>\n",
       "      <td>Consumer Internet</td>\n",
       "      <td>DIY Ecommerce platform</td>\n",
       "      <td>Mumbai</td>\n",
       "      <td>kunal shah, letsventure, anupam mittal, hetal ...</td>\n",
       "      <td>Seed Funding</td>\n",
       "      <td>0.5</td>\n",
       "      <td>NaN</td>\n",
       "      <td>2017</td>\n",
       "    </tr>\n",
       "    <tr>\n",
       "      <th>2369</th>\n",
       "      <td>2</td>\n",
       "      <td>02/08/2017</td>\n",
       "      <td>leverage edu</td>\n",
       "      <td>Consumer Internet</td>\n",
       "      <td>Online platform for Higher Education Services</td>\n",
       "      <td>New Delhi</td>\n",
       "      <td>kashyap deorah, anand sankeshwar, deepak jain,...</td>\n",
       "      <td>Seed Funding</td>\n",
       "      <td>0.0</td>\n",
       "      <td>NaN</td>\n",
       "      <td>2017</td>\n",
       "    </tr>\n",
       "    <tr>\n",
       "      <th>2370</th>\n",
       "      <td>1</td>\n",
       "      <td>02/08/2017</td>\n",
       "      <td>ethinos</td>\n",
       "      <td>Technology</td>\n",
       "      <td>Digital Marketing Agency</td>\n",
       "      <td>Mumbai</td>\n",
       "      <td>triton investment advisors</td>\n",
       "      <td>Private Equity</td>\n",
       "      <td>0.0</td>\n",
       "      <td>NaN</td>\n",
       "      <td>2017</td>\n",
       "    </tr>\n",
       "    <tr>\n",
       "      <th>2371</th>\n",
       "      <td>0</td>\n",
       "      <td>01/08/2017</td>\n",
       "      <td>touchkin</td>\n",
       "      <td>Technology</td>\n",
       "      <td>Predictive Care Platform</td>\n",
       "      <td>Bangalore</td>\n",
       "      <td>kae capital</td>\n",
       "      <td>Private Equity</td>\n",
       "      <td>1.3</td>\n",
       "      <td>NaN</td>\n",
       "      <td>2017</td>\n",
       "    </tr>\n",
       "  </tbody>\n",
       "</table>\n",
       "<p>1793 rows × 11 columns</p>\n",
       "</div>"
      ],
      "text/plain": [
       "       SNo        Date      StartupName                 IndustryVertical  \\\n",
       "171   2200  29/04/2015  travel triangle        Online Travel Marketplace   \n",
       "173   2198  29/04/2015         tradelab       Financial Markets Software   \n",
       "174   2197  29/04/2015             dazo         Mobile Food Ordering app   \n",
       "175   2196  29/04/2015           tracxn       Startup Analytics platform   \n",
       "177   2194  29/04/2015          reglobe  Used Gadgets Buy / Refurbishing   \n",
       "...    ...         ...              ...                              ...   \n",
       "2366     5  01/07/2017    billion loans                Consumer Internet   \n",
       "2368     3  02/08/2017             zepo                Consumer Internet   \n",
       "2369     2  02/08/2017     leverage edu                Consumer Internet   \n",
       "2370     1  02/08/2017          ethinos                       Technology   \n",
       "2371     0  01/08/2017         touchkin                       Technology   \n",
       "\n",
       "                                        SubVertical CityLocation  \\\n",
       "171                                             NaN        Noida   \n",
       "173                                             NaN    Bangalore   \n",
       "174                                             NaN    Bangalore   \n",
       "175                                             NaN    Bangalore   \n",
       "177                                             NaN      Gurgaon   \n",
       "...                                             ...          ...   \n",
       "2366                  Peer to Peer Lending platform    Bangalore   \n",
       "2368                         DIY Ecommerce platform       Mumbai   \n",
       "2369  Online platform for Higher Education Services    New Delhi   \n",
       "2370                       Digital Marketing Agency       Mumbai   \n",
       "2371                       Predictive Care Platform    Bangalore   \n",
       "\n",
       "                                          InvestorsName  InvestmentType  \\\n",
       "171            bessemer venture partners, saif partners  Private Equity   \n",
       "173                                          rainmatter    Seed Funding   \n",
       "174   sumit jain, aprameya radhakrishna, alok goel, ...    Seed Funding   \n",
       "175                                       saif partners  Private Equity   \n",
       "177                   bessemer ventures, blume ventures    Seed Funding   \n",
       "...                                                 ...             ...   \n",
       "2366           reliance corporate advisory services ltd    Seed Funding   \n",
       "2368  kunal shah, letsventure, anupam mittal, hetal ...    Seed Funding   \n",
       "2369  kashyap deorah, anand sankeshwar, deepak jain,...    Seed Funding   \n",
       "2370                         triton investment advisors  Private Equity   \n",
       "2371                                        kae capital  Private Equity   \n",
       "\n",
       "      AmountInUSD   Remarks  Year  \n",
       "171           8.0  Series B  2015  \n",
       "173           0.4       NaN  2015  \n",
       "174           0.0       NaN  2015  \n",
       "175           3.5  Series A  2015  \n",
       "177           1.0       NaN  2015  \n",
       "...           ...       ...   ...  \n",
       "2366          1.0       NaN  2017  \n",
       "2368          0.5       NaN  2017  \n",
       "2369          0.0       NaN  2017  \n",
       "2370          0.0       NaN  2017  \n",
       "2371          1.3       NaN  2017  \n",
       "\n",
       "[1793 rows x 11 columns]"
      ]
     },
     "execution_count": 57,
     "metadata": {},
     "output_type": "execute_result"
    }
   ],
   "source": [
    "df_new"
   ]
  },
  {
   "cell_type": "code",
   "execution_count": 58,
   "id": "1fa4e02f-e28e-433c-ab2a-57d54d740776",
   "metadata": {},
   "outputs": [],
   "source": [
    "df_new_vc = df_new['CityLocation'].value_counts()"
   ]
  },
  {
   "cell_type": "code",
   "execution_count": 59,
   "id": "d507cc76-7579-4216-86dc-0e11ba06d421",
   "metadata": {},
   "outputs": [
    {
     "data": {
      "text/plain": [
       "CityLocation\n",
       "Bangalore    635\n",
       "Mumbai       449\n",
       "New Delhi    389\n",
       "Gurgaon      241\n",
       "Noida         79\n",
       "Name: count, dtype: int64"
      ]
     },
     "execution_count": 59,
     "metadata": {},
     "output_type": "execute_result"
    }
   ],
   "source": [
    "df_new_vc"
   ]
  },
  {
   "cell_type": "code",
   "execution_count": 60,
   "id": "ec99b1f5-b7f0-45c5-ac09-f551a8df5bba",
   "metadata": {},
   "outputs": [
    {
     "data": {
      "image/png": "[encoded data removed]",
      "text/plain": [
       "<Figure size 640x480 with 1 Axes>"
      ]
     },
     "metadata": {},
     "output_type": "display_data"
    }
   ],
   "source": [
    "plt.barh(df_new_vc.index, df_new_vc.values)\n",
    "plt.show()"
   ]
  },
  {
   "cell_type": "code",
   "execution_count": 61,
   "id": "e58ffb82-f6b6-43c5-b3fb-f1ab86f994fd",
   "metadata": {},
   "outputs": [
    {
     "data": {
      "text/plain": [
       "InvestorsName\n",
       "indian angel network        25\n",
       "ratan tata                  24\n",
       "group of angel investors    20\n",
       "kalaari capital             16\n",
       "sequoia capital             14\n",
       "Name: count, dtype: int64"
      ]
     },
     "execution_count": 61,
     "metadata": {},
     "output_type": "execute_result"
    }
   ],
   "source": [
    "a=(df.loc[df['InvestorsName']!='undisclosed investors'])['InvestorsName'].value_counts().head()\n",
    "a"
   ]
  },
  {
   "cell_type": "code",
   "execution_count": null,
   "id": "907cf7ac-9e3c-4f31-b365-de0a31a0414a",
   "metadata": {},
   "outputs": [],
   "source": []
  }
 ],
 "metadata": {
  "kernelspec": {
   "display_name": "Python 3 (ipykernel)",
   "language": "python",
   "name": "python3"
  },
  "language_info": {
   "codemirror_mode": {
    "name": "ipython",
    "version": 3
   },
   "file_extension": ".py",
   "mimetype": "text/x-python",
   "name": "python",
   "nbconvert_exporter": "python",
   "pygments_lexer": "ipython3",
   "version": "3.11.3"
  }
 },
 "nbformat": 4,
 "nbformat_minor": 5
}
